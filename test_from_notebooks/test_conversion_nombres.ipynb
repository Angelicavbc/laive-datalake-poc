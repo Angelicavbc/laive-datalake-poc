{
	"metadata": {
		"kernelspec": {
			"name": "glue_pyspark",
			"display_name": "Glue PySpark",
			"language": "python"
		},
		"language_info": {
			"name": "Python_Glue_Session",
			"mimetype": "text/x-python",
			"codemirror_mode": {
				"name": "python",
				"version": 3
			},
			"pygments_lexer": "python3",
			"file_extension": ".py"
		}
	},
	"nbformat_minor": 4,
	"nbformat": 4,
	"cells": [
		{
			"cell_type": "markdown",
			"source": "# AWS Glue Studio Notebook\n##### You are now running a AWS Glue Studio notebook; To start using your notebook you need to start an AWS Glue Interactive Session.\n",
			"metadata": {
				"editable": true,
				"trusted": true
			}
		},
		{
			"cell_type": "markdown",
			"source": "#### Optional: Run this cell to see available notebook commands (\"magics\").\n",
			"metadata": {
				"editable": true,
				"trusted": true
			}
		},
		{
			"cell_type": "code",
			"source": "%help",
			"metadata": {
				"trusted": true,
				"editable": true
			},
			"execution_count": null,
			"outputs": []
		},
		{
			"cell_type": "markdown",
			"source": "####  Run this cell to set up and start your interactive session.\n",
			"metadata": {
				"editable": true,
				"trusted": true
			}
		},
		{
			"cell_type": "code",
			"source": "%idle_timeout 2880\n%glue_version 3.0\n%worker_type G.1X\n%number_of_workers 5\n\nimport sys,json\nimport pyspark\nimport boto3\nfrom awsglue.transforms import *\nfrom awsglue.utils import getResolvedOptions\nfrom pyspark.context import SparkContext,SparkConf\nfrom awsglue.context import GlueContext\nfrom pyspark.sql import Window,SparkSession\nfrom pyspark.sql.types import StringType,StructType,StructField,ArrayType\nfrom pyspark.sql.functions import arrays_zip, explode,col,collect_list,when,expr,row_number,concat_ws,array_distinct,lit,trim,when,array_contains,size,arrays_zip,explode,col,collect_list,when,expr,row_number,concat_ws,array_distinct,lit,trim,array_contains,from_json,to_json,monotonically_increasing_id,length,desc, substring\nfrom awsglue import DynamicFrame\nfrom awsglue.job import Job\nsc = SparkContext.getOrCreate()\nglueContext = GlueContext(sc)\nspark = glueContext.spark_session\njob = Job(glueContext)",
			"metadata": {
				"trusted": true,
				"editable": true
			},
			"execution_count": 1,
			"outputs": [
				{
					"name": "stdout",
					"text": "Welcome to the Glue Interactive Sessions Kernel\nFor more information on available magic commands, please type %help in any new cell.\n\nPlease view our Getting Started page to access the most up-to-date information on the Interactive Sessions kernel: https://docs.aws.amazon.com/glue/latest/dg/interactive-sessions.html\nInstalled kernel version: 1.0.5 \nCurrent idle_timeout is None minutes.\nidle_timeout has been set to 2880 minutes.\nSetting Glue version to: 3.0\nPrevious worker type: None\nSetting new worker type to: G.1X\nPrevious number of workers: None\nSetting new number of workers to: 5\nTrying to create a Glue session for the kernel.\nSession Type: glueetl\nWorker Type: G.1X\nNumber of Workers: 5\nIdle Timeout: 2880\nSession ID: 0b64fe94-9a50-4dfc-9368-f9eead66141a\nApplying the following default arguments:\n--glue_kernel_version 1.0.5\n--enable-glue-datacatalog true\nWaiting for session 0b64fe94-9a50-4dfc-9368-f9eead66141a to get into ready status...\nSession 0b64fe94-9a50-4dfc-9368-f9eead66141a has been created.\n\n",
					"output_type": "stream"
				}
			]
		},
		{
			"cell_type": "code",
			"source": "source_config = {\n    'type': 's3',\n    's3_path': 's3://laive/',\n    'source': '0mat_plant_attr'\n}",
			"metadata": {
				"trusted": true,
				"editable": true
			},
			"execution_count": 2,
			"outputs": [
				{
					"name": "stdout",
					"text": "\n",
					"output_type": "stream"
				}
			]
		},
		{
			"cell_type": "code",
			"source": "import boto3, json\nfrom awsglue import DynamicFrame\nfrom pyspark.sql import Window\nfrom pyspark.sql.types import *\nfrom pyspark.sql.functions import col, row_number, col, row_number\n\ndef get_dyf_from_s3(glueContext, source_config, format='csv'):\n    cnn_options = {\n        \"paths\": [source_config['s3_path'] + source_config['source'] + \"/\"], \n        \"recurse\": True,\n        \"compression\": \"gzip\"\n    }\n    if ('groupFiles' in source_config):\n        cnn_options['groupFiles'] = source_config['groupFiles']\n    if ('groupSize' in source_config):\n        cnn_options['groupSize'] = source_config['groupSize']\n    if ('useS3ListImplementation' in source_config):\n        cnn_options['useS3ListImplementation'] = source_config['useS3ListImplementation']\n    return glueContext.create_dynamic_frame.from_options( \\\n            connection_type=\"s3\", \\\n            connection_options=cnn_options, \\\n            format=format, \\\n            format_options={\"withHeader\": True})\n\ndef read_json_from_s3(bucket_name, path):\n    s3 = boto3.resource('s3')\n    content_object = s3.Object(bucket_name, path)\n    file_content = content_object.get()['Body'].read().decode('utf-8')\n    return json.loads(file_content)\n\n\ndef transform(glueContext, source_config, config, source_inclussions = None):\n    dyf_map = {}\n    for el_name, el_config in config.items():\n        if el_name in source_inclussions:\n            source = el_config[\"source\"]\n            destination = el_config[\"destination\"]\n            mappings = el_config[\"mappings\"]\n#           autoincrement_column = el_config[\"autoincrement_column\"]\n\n            # Read CSV from the source path\n            if source_config['type'] == 's3':\n                dyf = get_dyf_from_s3(glueContext, source_config)\n\n            # Apply column renaming and data type transformations\n            dyf_schema = dyf.schema()\n            dyf_t = dyf.apply_mapping(list(map(lambda t: (t[0], dyf_schema.getField(t[0]).dataType.typeName(), t[2], t[3]) if t[1] == \"Dynamic\" else tuple(t), mappings)))\n#            if autoincrement_column:\n#                autoincrement_order_by = el_config[\"autoincrement_order_by\"]\n#                window_spec_id = Window.orderBy(autoincrement_order_by)\n#                df_t = dyf_t.toDF().withColumn(autoincrement_column, row_number().over(window_spec_id))\\\n#                       .withColumn(autoincrement_column, col(autoincrement_column))\n#                \n#               dyf_t = DynamicFrame.fromDF(df_t, glueContext, \"dyf_t\")            \n            dyf_map[el_name] = {'table': destination, 'data': dyf_t}\n    return dyf_map",
			"metadata": {
				"trusted": true,
				"tags": []
			},
			"execution_count": 7,
			"outputs": [
				{
					"name": "stdout",
					"text": "\n",
					"output_type": "stream"
				}
			]
		},
		{
			"cell_type": "code",
			"source": "#Probar la funcion\ndynamic_frame = get_dyf_from_s3(glueContext, source_config)\ndynamic_frame.show(1)",
			"metadata": {
				"trusted": true,
				"tags": []
			},
			"execution_count": 5,
			"outputs": [
				{
					"name": "stdout",
					"text": "{\"MATNR\": \"000000000040007660\", \"WERKS\": \"2000\", \"PSTAT\": \"DELBV\", \"LVORM\": \"\", \"BWTTY\": \"\", \"XCHAR\": \"\", \"MMSTA\": \"\", \"MMSTD\": \"null\", \"MAABC\": \"\", \"KZKRI\": \"\", \"EKGRP\": \"G02\", \"AUSME\": \"\", \"DISPR\": \"\", \"DISMM\": \"PD\", \"DISPO\": \"C02\", \"KZDIE\": \"\", \"PLIFZ\": \"0\", \"WEBAZ\": \"0\", \"PERKZ\": \"M\", \"AUSSS\": \"0.0\", \"DISLS\": \"EX\", \"BESKZ\": \"F\", \"SOBSL\": \"\", \"SBDKZ\": \"2\", \"LAGPR\": \"\", \"ALTSL\": \"\", \"KZAUS\": \"\", \"AUSDT\": \"null\", \"NFMAT\": \"\", \"KZBED\": \"T\", \"MISKZ\": \"\", \"FHORI\": \"\", \"PFREI\": \"\", \"FFREI\": \"\", \"RGEKZ\": \"\", \"FEVOR\": \"\", \"BEARZ\": \"0.0\", \"RUEZT\": \"0.0\", \"TRANZ\": \"0.0\", \"DZEIT\": \"0\", \"MAXLZ\": \"0\", \"LZEIH\": \"\", \"KZPRO\": \"\", \"GPMKZ\": \"\", \"UEETO\": \"0.0\", \"UEETK\": \"\", \"UNETO\": \"0.0\", \"WZEIT\": \"0\", \"ATPKZ\": \"\", \"VZUSL\": \"0.0\", \"HERBL\": \"\", \"INSMK\": \"\", \"SPROZ\": \"0.0\", \"QUAZT\": \"0\", \"SSQSS\": \"\", \"MPDAU\": \"0\", \"KZPPV\": \"\", \"KZDKZ\": \"\", \"WSTGH\": \"0\", \"PRFRQ\": \"0\", \"NKMPR\": \"null\", \"LADGR\": \"Z001\", \"XCHPF\": \"\", \"USEQU\": \"\", \"LGRAD\": \"0.0\", \"AUFTL\": \"\", \"PLVAR\": \"\", \"OTYPE\": \"\", \"OBJID\": \"00000000\", \"MTVFP\": \"02\", \"PERIV\": \"\", \"KZKFK\": \"\", \"VRVEZ\": \"0.0\", \"VBEAZ\": \"0.0\", \"LIZYK\": \"\", \"BWSCL\": \"\", \"KAUTB\": \"\", \"KORDB\": \"\", \"STAWN\": \"\", \"HERKL\": \"\", \"HERKR\": \"\", \"EXPME\": \"\", \"MTVER\": \"\", \"PRCTR\": \"CBATG\", \"MRPPP\": \"\", \"SAUFT\": \"\", \"FXHOR\": \"000\", \"VRMOD\": \"\", \"VINT1\": \"000\", \"VINT2\": \"000\", \"VERKZ\": \"\", \"STLAL\": \"\", \"STLAN\": \"\", \"PLNNR\": \"\", \"APLAL\": \"\", \"SOBSK\": \"\", \"FRTME\": \"\", \"LGPRO\": \"\", \"DISGR\": \"G002\", \"KAUSF\": \"0.0\", \"QZGTP\": \"\", \"QMATV\": \"\", \"TAKZT\": \"0\", \"RWPRO\": \"\", \"COPAM\": \"\", \"ABCIN\": \"\", \"AWSLS\": \"\", \"SERNP\": \"\", \"CUOBJ\": \"000000000000000000\", \"STDPD\": \"\", \"SFEPR\": \"\", \"XMCNG\": \"\", \"QSSYS\": \"\", \"LFRHY\": \"\", \"RDPRF\": \"\", \"VRBMT\": \"\", \"VRBWK\": \"\", \"VRBDT\": \"null\", \"VRBFK\": \"0.0\", \"AUTRU\": \"\", \"PREFE\": \"\", \"PRENC\": \"\", \"PRENO\": \"\", \"PREND\": \"null\", \"PRENE\": \"\", \"PRENG\": \"null\", \"ITARK\": \"\", \"SERVG\": \"\", \"KZKUP\": \"\", \"STRGR\": \"\", \"CUOBV\": \"000000000000000000\", \"LGFSB\": \"\", \"SCHGT\": \"\", \"CCFIX\": \"\", \"EPRIO\": \"\", \"QMATA\": \"\", \"RESVP\": \"0\", \"PLNTY\": \"\", \"UOMGR\": \"\", \"UMRSL\": \"\", \"ABFAC\": \"0.0\", \"SFCPF\": \"\", \"SHFLG\": \"\", \"SHZET\": \"00\", \"MDACH\": \"\", \"KZECH\": \"\", \"KOKRS\": \"1000\", \"ODQ_CHANGEMODE\": \"C\", \"ODQ_ENTITYCNTR\": \"1\"}\n",
					"output_type": "stream"
				}
			]
		},
		{
			"cell_type": "code",
			"source": "config = read_json_from_s3(\"aws-glue-assets-637423333664-us-east-2\", \"scripts/stage/etl-config.json\")\nsource_inclussions = ['0mat_plant_attr']\ndyf_roots = transform(glueContext, source_config, config, source_inclussions)",
			"metadata": {
				"trusted": true,
				"tags": []
			},
			"execution_count": 11,
			"outputs": [
				{
					"name": "stdout",
					"text": "\n",
					"output_type": "stream"
				}
			]
		},
		{
			"cell_type": "code",
			"source": "dyf_roots.keys()",
			"metadata": {
				"trusted": true,
				"tags": []
			},
			"execution_count": 12,
			"outputs": [
				{
					"name": "stdout",
					"text": "dict_keys(['0mat_plant_attr'])\n",
					"output_type": "stream"
				}
			]
		},
		{
			"cell_type": "code",
			"source": "dyf_roots['0mat_plant_attr']['data'].printSchema()",
			"metadata": {
				"trusted": true,
				"tags": [],
				"collapsed": true,
				"jupyter": {
					"outputs_hidden": true
				}
			},
			"execution_count": 13,
			"outputs": [
				{
					"name": "stdout",
					"text": "root\n|-- Número de material: string\n|-- Centro: string\n|-- Status de actualización: string\n|-- Marcar para borrado material a nivel de centro: string\n|-- Tipo de valoración: string\n|-- Indicador para la gestión de lotes (interno): string\n|-- Status material específico centro: string\n|-- Fecha inicio validez de estado material específico centro: string\n|-- Indicador ABC: string\n|-- Indicador: Parte crítica: string\n|-- Grupo de compras: string\n|-- Unidad de medida de salida: string\n|-- Material: Perfil de planificación de necesidades: string\n|-- Característica de planificación de necesidades: string\n|-- Planificador de necesidades: string\n|-- Ind: Planificador necesidades encargado compras (no activ): string\n|-- Plazo de entrega previsto en días: string\n|-- Tiempo de tratamiento para la entrada de mercancía en días: string\n|-- Indicador de período: string\n|-- Rechazo a nivel de conjunto en porcentaje: string\n|-- Cálculo de tamaño de lote en planificación de necesidades: string\n|-- Clase de aprovisionamiento: string\n|-- Clase de aprovisionamiento especial: string\n|-- Ind_necesidades secundarias p_nec_colectivas e individuales: string\n|-- Código de porcentaje de costes de almacenaje: string\n|-- Indicador para selección de listas-materiales alternativas: string\n|-- Ind_reemplazo: string\n|-- Fecha de fin de validez: string\n|-- Material reemplazante: string\n|-- Indicador para agrupamiento de necesidades: string\n|-- Indicador para planif_neces_mixta: string\n|-- Clave de horizonte para tiempos de holgura: string\n|-- Indicador: Determinación automática de órdenes previsionales: string\n|-- Indicador de lanzamiento para órdenes de fabricación: string\n|-- Indicador: toma retroactiva: string\n|-- Responsable de control de producción: string\n|-- Tiempo de tratamiento: string\n|-- Tiempo preparación y desmontaje: string\n|-- Tiempo de tránsito: string\n|-- Tiempo de fabricación propia: string\n|-- Tiempo de almacenaje máximo: string\n|-- Unidad para el tiempo máximo de almacenaje: string\n|-- Indicador: Toma del almacén de producción: string\n|-- Indicador: Material participa en la planificación global: string\n|-- Límite de tolerancia para el exceso de suministro: string\n|-- Indicador: Exceso de suministro ilimitado: string\n|-- Límite de tolerancia p_entrega incompleta: string\n|-- Tiempo global de reaprovisionamiento (días laborables): string\n|-- Pieza de recambio: string\n|-- Factor de recargo para el valor de compensación en %: string\n|-- Región de fabricación: string\n|-- Tipo de stock: string\n|-- Muestreo para control de calidad (en %) (desactivado): string\n|-- Periodo de cuarentena (desactivado): string\n|-- Clave control para gestión de calidad en aprovisionamiento: string\n|-- Duración de inspección media  (desactivado): string\n|-- Indicador para plan de inspección (no activ_): string\n|-- Indicador para obligación de documentación: string\n|-- Sustancias activas (desactivado): string\n|-- Intervalo hasta la siguiente inspección periódica: string\n|-- Fecha tras la inspección de la primera muestra (desactiv_): string\n|-- Grupo de carga: string\n|-- Indicador de requisito de gestión de lotes: string\n|-- Utilización de la regulación por cuotas: string\n|-- Nivel de servicio: string\n|-- Indicador de reparto: string\n|-- Variante de plan: string\n|-- Tp_objeto: string\n|-- ID objeto: string\n|-- Grupo de verificación p_verificación de disponibilidad: string\n|-- Variante de ejercicio: string\n|-- Indicador: Considerar factores de corrección: string\n|-- Tiempo de preparación de expedición: string\n|-- Tiempo de tratamiento de expedición: string\n|-- Frecuencia de entrega: string\n|-- Fuente aprovisionamiento: string\n|-- Indicador: pedido automático permitido: string\n|-- Indicador: Sujeto a libro de pedidos: string\n|-- Número estadístico de mercancía: string\n|-- País/Región de origen del material (origen CCI): string\n|-- Región de origen del material (origen Cámara de Comercio): string\n|-- Unidad de medida para nº estadíst_ artíc_ (comercio ext_): string\n|-- Grupo de materiales para Intrastat: string\n|-- Centro de beneficio: string\n|-- Calendario planificación PPS: string\n|-- Ind_ permite fabricación repetitiva: string\n|-- Horiz_planificación fijo: string\n|-- Modo de compensación: string\n|-- Intervalo de compensación -hacia atrás-: string\n|-- Intervalo de compensación -hacia adelante-: string\n|-- Indicador de versión: string\n|-- Alternativa de la lista de materiales: string\n|-- Utilización de la lista de materiales: string\n|-- Clave de grupo hojas de ruta: string\n|-- Contador grupo hojas ruta: string\n|-- Clase de aprovisionamiento especial para el cálculo de coste: string\n|-- Unidad de medida de fabricación: string\n|-- Almacén de producción: string\n|-- Grupo de planificación de necesidades: string\n|-- Rechazo de componente en porcentaje: string\n|-- Tipo de certificado: string\n|-- Existe parametrización inspección para material/centro: string\n|-- Cadencia: string\n|-- Perfil de cobertura: string\n|-- Nombre campo local para conexión CO/PA con SOP: string\n|-- Indicador de inventario físico para inventario cíclico: string\n|-- Clave de desviación: string\n|-- Perfil de números de serie: string\n|-- Número objeto interno: string\n|-- Material configurable: string\n|-- Perfil de fabricación repetitiva: string\n|-- Stocks negativos permitidos en el centro: string\n|-- Sistema QM del proveedor requerido: string\n|-- Ciclo de planificación: string\n|-- Perfil de redondeo: string\n|-- Material de referencia consumo: string\n|-- Centro referencia consumo: string\n|-- Fecha a p_material ref_consumo: string\n|-- Multiplicador para material referencia para consumo: string\n|-- Anular automáticamente modelo pronóstico: string\n|-- Preferencia aduanera: string\n|-- Código de certificación negativa: indicador p_control legal: string\n|-- Certificación negativa: número de cert_neg_p_control legal: string\n|-- Certificación negativa: fecha emisión de certif_negativa: string\n|-- Indicador: Existe declaración de proveedor: string\n|-- Fecha de validez de declaración de proveedor: string\n|-- Indicador: Artículo militar: string\n|-- Grado de servicio WWS: string\n|-- Indicador: el material puede ser un co-producto: string\n|-- Grupo de estrategia de planificación: string\n|-- Nº objeto interno de material config_p_preplanificación: string\n|-- Almacén propuesto para aprovisionamiento externo: string\n|-- Indicador: Material a granel: string\n|-- Indicador CC es fijo: string\n|-- Grupo de secuencias de toma de stocks: string\n|-- Grupo de autorización de material p_actividades en QM: string\n|-- Horizonte de ajuste para la preplanificación: string\n|-- Tipo de hoja de ruta: string\n|-- Grupo de unidades de medida (petróleo, gas natural): string\n|-- Grupo de conversión (petróleo, gas natural): string\n|-- Relación de densidades aire/vacío: string\n|-- Perfil de control de fabricación: string\n|-- Indicador de margen de seguridad (con/sin margen seguridad): string\n|-- Tiempo de seguridad (en días laborables): string\n|-- Controlador de acción: Procesamiento órdenes previsionales: string\n|-- Control de entrada de lotes en orden de fabr_/de proceso: string\n|-- Sociedad CO: string\n|-- odq_changemode: string\n|-- odq_entitycntr: string\n",
					"output_type": "stream"
				}
			]
		}
	]
}