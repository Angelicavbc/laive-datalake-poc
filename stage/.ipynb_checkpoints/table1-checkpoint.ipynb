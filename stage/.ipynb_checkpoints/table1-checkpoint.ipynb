{
 "cells": [
  {
   "cell_type": "code",
   "execution_count": 10,
   "id": "722fdffc-21f6-402b-bd56-4d0b44146385",
   "metadata": {},
   "outputs": [
    {
     "data": {
      "application/vnd.jupyter.widget-view+json": {
       "model_id": "",
       "version_major": 2,
       "version_minor": 0
      },
      "text/plain": [
       "FloatProgress(value=0.0, bar_style='info', description='Progress:', layout=Layout(height='25px', width='50%'),…"
      ]
     },
     "metadata": {},
     "output_type": "display_data"
    },
    {
     "name": "stderr",
     "output_type": "stream",
     "text": [
      "An error was encountered:\n",
      "No module named 'glue_utils'\n",
      "Traceback (most recent call last):\n",
      "ModuleNotFoundError: No module named 'glue_utils'\n",
      "\n"
     ]
    }
   ],
   "source": [
    "import sys\n",
    "import pyspark\n",
    "from awsglue.transforms import *\n",
    "from awsglue.utils import getResolvedOptions\n",
    "from pyspark.context import SparkContext,SparkConf\n",
    "from awsglue.context import GlueContext\n",
    "from pyspark.sql import Window,SparkSession\n",
    "from pyspark.sql.types import StringType,StructType,StructField,ArrayType,IntegerType\n",
    "from pyspark.sql.functions import struct,arrays_zip, explode,col,collect_list,when,expr,row_number,concat_ws,array_distinct,lit,trim,when,array_contains,filter,size,from_json,to_json\n",
    "from awsglue import DynamicFrame\n",
    "from glue_utils import utils\n",
    "from awsglue.job import Job"
   ]
  },
  {
   "cell_type": "code",
   "execution_count": 2,
   "id": "930478a7-4a6f-4254-9a52-3ad37719b1fa",
   "metadata": {},
   "outputs": [
    {
     "data": {
      "application/vnd.jupyter.widget-view+json": {
       "model_id": "",
       "version_major": 2,
       "version_minor": 0
      },
      "text/plain": [
       "FloatProgress(value=0.0, bar_style='info', description='Progress:', layout=Layout(height='25px', width='50%'),…"
      ]
     },
     "metadata": {},
     "output_type": "display_data"
    }
   ],
   "source": [
    "sc = SparkContext.getOrCreate()\n",
    "glueContext = GlueContext(sc)\n",
    "spark = glueContext.spark_session\n",
    "job = Job(glueContext)"
   ]
  },
  {
   "cell_type": "code",
   "execution_count": 11,
   "id": "cb3097e8-a9b6-4ed6-b171-9dd6185ab2f9",
   "metadata": {},
   "outputs": [
    {
     "data": {
      "application/vnd.jupyter.widget-view+json": {
       "model_id": "",
       "version_major": 2,
       "version_minor": 0
      },
      "text/plain": [
       "FloatProgress(value=0.0, bar_style='info', description='Progress:', layout=Layout(height='25px', width='50%'),…"
      ]
     },
     "metadata": {},
     "output_type": "display_data"
    }
   ],
   "source": [
    "datasource_mat_plant_attr= glueContext.create_dynamic_frame.from_options(\n",
    "    connection_type=\"s3\",\n",
    "    connection_options={\"paths\": [\"s3://delta-glue-tests-2/laive_test/test_deltalake/zt024_attr_test/data/\"],\"recurse\":True},\n",
    "    format=\"parquet\",\n",
    "    format_options={\n",
    "        \"withHeader\": True\n",
    "    }\n",
    ")"
   ]
  },
  {
   "cell_type": "code",
   "execution_count": 7,
   "id": "5c766dc8-882d-41eb-b50b-32f9792aaad1",
   "metadata": {},
   "outputs": [
    {
     "data": {
      "application/vnd.jupyter.widget-view+json": {
       "model_id": "",
       "version_major": 2,
       "version_minor": 0
      },
      "text/plain": [
       "FloatProgress(value=0.0, bar_style='info', description='Progress:', layout=Layout(height='25px', width='50%'),…"
      ]
     },
     "metadata": {},
     "output_type": "display_data"
    },
    {
     "name": "stdout",
     "output_type": "stream",
     "text": [
      "+-----+------------------+------------+-----+-----+----------+----------+---------+--------------+--------------+\n",
      "|EKGRP|EKNAM             |EKTEL       |LDEST|TELFX|TEL_NUMBER|TEL_EXTENS|SMTP_ADDR|ODQ_CHANGEMODE|ODQ_ENTITYCNTR|\n",
      "+-----+------------------+------------+-----+-----+----------+----------+---------+--------------+--------------+\n",
      "|G23  |Valor_Servicios   |            |     |     |          |          |         |              |0             |\n",
      "|G03  |Servicios         |            |     |     |          |          |         |              |0             |\n",
      "|001  |Einkäufer 1       |06227/341285|LP01 |     |          |          |         |              |0             |\n",
      "|G03  |Servicios         |            |     |     |          |          |         |              |0             |\n",
      "|001  |Einkäufer 1       |06227/341285|LP01 |     |          |          |         |              |0             |\n",
      "|G04  |Activo            |            |     |     |          |          |         |              |0             |\n",
      "|G04  |Activo            |            |     |     |          |          |         |              |0             |\n",
      "|G07  |Mercaderías       |            |     |     |          |          |         |              |0             |\n",
      "|G07  |Mercaderías       |            |     |     |          |          |         |              |0             |\n",
      "|G02  |Suministro y Repue|            |     |     |          |          |         |              |0             |\n",
      "|G02  |Suministro y Repue|            |     |     |          |          |         |              |0             |\n",
      "|G22  |Valor_Suminis  Rep|            |     |     |          |          |         |              |0             |\n",
      "|G22  |Valor_Suminis  Rep|            |     |     |          |          |         |              |0             |\n",
      "|G06  |Subcontratación   |            |     |     |          |          |         |              |0             |\n",
      "|G06  |Subcontratación   |            |     |     |          |          |         |              |0             |\n",
      "|G05  |Traslados         |            |     |     |          |          |         |              |0             |\n",
      "|G05  |Traslados         |            |     |     |          |          |         |              |0             |\n",
      "|G24  |Valor_Activo      |            |     |     |          |          |         |              |0             |\n",
      "|G24  |Valor_Activo      |            |     |     |          |          |         |              |0             |\n",
      "|G01  |Insu.Envase y Emba|            |     |     |          |          |         |              |0             |\n",
      "|G01  |Insu.Envase y Emba|            |     |     |          |          |         |              |0             |\n",
      "|G23  |Valor_Servicios   |            |     |     |          |          |         |              |0             |\n",
      "+-----+------------------+------------+-----+-----+----------+----------+---------+--------------+--------------+"
     ]
    }
   ],
   "source": [
    "readcsv=datasource_mat_plant_attr.toDF().show(100,truncate=False)"
   ]
  }
 ],
 "metadata": {
  "kernelspec": {
   "display_name": "PySpark",
   "language": "python",
   "name": "pysparkkernel"
  },
  "language_info": {
   "codemirror_mode": {
    "name": "python",
    "version": 3
   },
   "file_extension": ".py",
   "mimetype": "text/x-python",
   "name": "pyspark",
   "pygments_lexer": "python3"
  }
 },
 "nbformat": 4,
 "nbformat_minor": 5
}
