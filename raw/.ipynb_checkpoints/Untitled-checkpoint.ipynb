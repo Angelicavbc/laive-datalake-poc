{
 "cells": [
  {
   "cell_type": "code",
   "execution_count": null,
   "id": "560b1f64-f121-4ce7-ace1-9c64b825f8a9",
   "metadata": {},
   "outputs": [],
   "source": []
  }
 ],
 "metadata": {
  "kernelspec": {
   "display_name": "PySpark",
   "language": "python",
   "name": "pysparkkernel"
  },
  "language_info": {
   "name": ""
  }
 },
 "nbformat": 4,
 "nbformat_minor": 5
}
